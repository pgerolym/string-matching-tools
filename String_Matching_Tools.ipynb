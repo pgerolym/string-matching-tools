{
  "nbformat": 4,
  "nbformat_minor": 0,
  "metadata": {
    "colab": {
      "name": "String Matching Tools.ipynb",
      "provenance": [],
      "collapsed_sections": [],
      "toc_visible": true,
      "authorship_tag": "ABX9TyNsHA2LONc06nWbHJWiU7pH",
      "include_colab_link": true
    },
    "kernelspec": {
      "name": "python3",
      "display_name": "Python 3"
    }
  },
  "cells": [
    {
      "cell_type": "markdown",
      "metadata": {
        "id": "view-in-github",
        "colab_type": "text"
      },
      "source": [
        "<a href=\"https://colab.research.google.com/github/pgerolym/string-matching-tools/blob/master/String_Matching_Tools.ipynb\" target=\"_parent\"><img src=\"https://colab.research.google.com/assets/colab-badge.svg\" alt=\"Open In Colab\"/></a>"
      ]
    },
    {
      "cell_type": "code",
      "metadata": {
        "id": "lew9NOcLTT9E",
        "colab_type": "code",
        "colab": {}
      },
      "source": [
        "!pip install strsimpy"
      ],
      "execution_count": 0,
      "outputs": []
    },
    {
      "cell_type": "markdown",
      "metadata": {
        "id": "E6iZNf9LTaSx",
        "colab_type": "text"
      },
      "source": [
        "# String Comparison"
      ]
    },
    {
      "cell_type": "code",
      "metadata": {
        "id": "Bl3WytNMX_TR",
        "colab_type": "code",
        "colab": {}
      },
      "source": [
        "s0 = '52 Sussex Ave, Morristown, NJ 07960'\n",
        "# s1 = '52 Susex Avenue, Morristown, NJ'\n",
        "s1 = '52 Sussex Place, Morristown, NJ'"
      ],
      "execution_count": 0,
      "outputs": []
    },
    {
      "cell_type": "markdown",
      "metadata": {
        "id": "QuM9uq5pTnqr",
        "colab_type": "text"
      },
      "source": [
        "## Levenshtein distance"
      ]
    },
    {
      "cell_type": "code",
      "metadata": {
        "id": "6TmvIo_HTios",
        "colab_type": "code",
        "colab": {
          "base_uri": "https://localhost:8080/",
          "height": 34
        },
        "outputId": "0b4f2126-4047-41ae-dc4d-45a3b50ed06e"
      },
      "source": [
        "from strsimpy.levenshtein import Levenshtein\n",
        "\n",
        "levenshtein = Levenshtein()\n",
        "print(levenshtein.distance(s0, s1))"
      ],
      "execution_count": 45,
      "outputs": [
        {
          "output_type": "stream",
          "text": [
            "10\n"
          ],
          "name": "stdout"
        }
      ]
    },
    {
      "cell_type": "markdown",
      "metadata": {
        "id": "6ZQW3LICTwSF",
        "colab_type": "text"
      },
      "source": [
        "## Normalized Levenshtein distance"
      ]
    },
    {
      "cell_type": "code",
      "metadata": {
        "id": "u5F6SSAWTzuF",
        "colab_type": "code",
        "colab": {
          "base_uri": "https://localhost:8080/",
          "height": 85
        },
        "outputId": "b9ce5ed7-8b78-4a6d-adfc-d0de2cd22910"
      },
      "source": [
        "from strsimpy.normalized_levenshtein import NormalizedLevenshtein\n",
        "\n",
        "normalized_levenshtein = NormalizedLevenshtein()\n",
        "print(\"Distance\")\n",
        "print(normalized_levenshtein.distance(s0, s1))\n",
        "print(\"Similartity\")\n",
        "print(normalized_levenshtein.similarity(s0, s1))"
      ],
      "execution_count": 46,
      "outputs": [
        {
          "output_type": "stream",
          "text": [
            "Distance\n",
            "0.2857142857142857\n",
            "Similartity\n",
            "0.7142857142857143\n"
          ],
          "name": "stdout"
        }
      ]
    },
    {
      "cell_type": "markdown",
      "metadata": {
        "id": "Slrmw7TpT2Le",
        "colab_type": "text"
      },
      "source": [
        "## Damerau-Levenshtein distance"
      ]
    },
    {
      "cell_type": "code",
      "metadata": {
        "id": "lSSmzYpfUC7F",
        "colab_type": "code",
        "colab": {
          "base_uri": "https://localhost:8080/",
          "height": 34
        },
        "outputId": "483e185d-9e23-47cf-e231-180b9ae7b14f"
      },
      "source": [
        "from strsimpy.damerau import Damerau\n",
        "\n",
        "damerau = Damerau()\n",
        "print(damerau.distance(s0, s1))"
      ],
      "execution_count": 47,
      "outputs": [
        {
          "output_type": "stream",
          "text": [
            "10\n"
          ],
          "name": "stdout"
        }
      ]
    },
    {
      "cell_type": "markdown",
      "metadata": {
        "id": "QajjFRrHUDSR",
        "colab_type": "text"
      },
      "source": [
        "## Metric Longest Common Subsequence "
      ]
    },
    {
      "cell_type": "code",
      "metadata": {
        "id": "qGaP0wC6UIyd",
        "colab_type": "code",
        "colab": {
          "base_uri": "https://localhost:8080/",
          "height": 51
        },
        "outputId": "39732f14-2f5e-4a10-aa92-d98eed34159b"
      },
      "source": [
        "from strsimpy.metric_lcs import MetricLCS\n",
        "\n",
        "metric_lcs = MetricLCS()\n",
        "# LCS: ABCDEF => length = 6\n",
        "# longest = s2 => length = 10\n",
        "# => 1 - 6/10 = 0.4\n",
        "print(metric_lcs.distance(s0,s1))\n",
        "\n",
        "# LCS: ABDF => length = 4\n",
        "# longest = ABDEF => length = 5\n",
        "# => 1 - 4 / 5 = 0.2\n",
        "print(metric_lcs.distance(s0,s1))"
      ],
      "execution_count": 48,
      "outputs": [
        {
          "output_type": "stream",
          "text": [
            "0.22857142857142854\n",
            "0.22857142857142854\n"
          ],
          "name": "stdout"
        }
      ]
    },
    {
      "cell_type": "markdown",
      "metadata": {
        "id": "qpyRrZceUJd2",
        "colab_type": "text"
      },
      "source": [
        "## Cosine similarity distance"
      ]
    },
    {
      "cell_type": "code",
      "metadata": {
        "id": "TrNIFxRNUO7-",
        "colab_type": "code",
        "colab": {
          "base_uri": "https://localhost:8080/",
          "height": 34
        },
        "outputId": "3f3d7130-ed30-41fe-8b56-6a1c1fc46ddf"
      },
      "source": [
        "from strsimpy.cosine import Cosine\n",
        "\n",
        "cosine = Cosine(2)\n",
        "p0 = cosine.get_profile(s0)\n",
        "p1 = cosine.get_profile(s1)\n",
        "print(cosine.similarity_profiles(p0, p1))"
      ],
      "execution_count": 49,
      "outputs": [
        {
          "output_type": "stream",
          "text": [
            "0.7954951288348658\n"
          ],
          "name": "stdout"
        }
      ]
    }
  ]
}