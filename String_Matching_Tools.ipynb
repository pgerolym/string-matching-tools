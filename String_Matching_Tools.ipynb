{
  "nbformat": 4,
  "nbformat_minor": 0,
  "metadata": {
    "colab": {
      "name": "String Matching Tools.ipynb",
      "provenance": [],
      "collapsed_sections": [],
      "toc_visible": true,
      "authorship_tag": "ABX9TyNMp/D4IEwyC6GOGzFPZJRU",
      "include_colab_link": true
    },
    "kernelspec": {
      "name": "python3",
      "display_name": "Python 3"
    }
  },
  "cells": [
    {
      "cell_type": "markdown",
      "metadata": {
        "id": "view-in-github",
        "colab_type": "text"
      },
      "source": [
        "<a href=\"https://colab.research.google.com/github/pgerolym/string-matching-tools/blob/master/String_Matching_Tools.ipynb\" target=\"_parent\"><img src=\"https://colab.research.google.com/assets/colab-badge.svg\" alt=\"Open In Colab\"/></a>"
      ]
    },
    {
      "cell_type": "code",
      "metadata": {
        "id": "lew9NOcLTT9E",
        "colab_type": "code",
        "colab": {}
      },
      "source": [
        "!pip install strsimpy"
      ],
      "execution_count": 0,
      "outputs": []
    },
    {
      "cell_type": "markdown",
      "metadata": {
        "id": "E6iZNf9LTaSx",
        "colab_type": "text"
      },
      "source": [
        "# String Comparison"
      ]
    },
    {
      "cell_type": "code",
      "metadata": {
        "id": "Bl3WytNMX_TR",
        "colab_type": "code",
        "colab": {}
      },
      "source": [
        "s0 = '52 Sussex Ave, Morristown, NJ 07960'\n",
        "s1 = '52 Susex Avenue, Morristown, NJ'\n",
        "# s1 = '52 Sussex Place, Morristown, NJ'\n",
        "\n",
        "distance_format = \"Distance: {:.4}\"\n",
        "similarity_format = \"Similarity: {:.4}\""
      ],
      "execution_count": 0,
      "outputs": []
    },
    {
      "cell_type": "markdown",
      "metadata": {
        "id": "QuM9uq5pTnqr",
        "colab_type": "text"
      },
      "source": [
        "## Levenshtein distance"
      ]
    },
    {
      "cell_type": "code",
      "metadata": {
        "id": "6TmvIo_HTios",
        "colab_type": "code",
        "colab": {
          "base_uri": "https://localhost:8080/",
          "height": 34
        },
        "outputId": "2432be39-b445-4431-f964-2654545e9e00"
      },
      "source": [
        "from strsimpy.levenshtein import Levenshtein\n",
        "\n",
        "levenshtein = Levenshtein()\n",
        "print(distance_format.format(str(levenshtein.distance(s0, s1))))"
      ],
      "execution_count": 71,
      "outputs": [
        {
          "output_type": "stream",
          "text": [
            "Distance: 10\n"
          ],
          "name": "stdout"
        }
      ]
    },
    {
      "cell_type": "markdown",
      "metadata": {
        "id": "6ZQW3LICTwSF",
        "colab_type": "text"
      },
      "source": [
        "## Normalized Levenshtein distance"
      ]
    },
    {
      "cell_type": "code",
      "metadata": {
        "id": "u5F6SSAWTzuF",
        "colab_type": "code",
        "colab": {
          "base_uri": "https://localhost:8080/",
          "height": 51
        },
        "outputId": "6a233687-a2f9-4b62-d40d-96914f8c59ca"
      },
      "source": [
        "from strsimpy.normalized_levenshtein import NormalizedLevenshtein\n",
        "\n",
        "normalized_levenshtein = NormalizedLevenshtein()\n",
        "print(distance_format.format(str(normalized_levenshtein.distance(s0, s1))))\n",
        "print(similarity_format.format(str(normalized_levenshtein.similarity(s0, s1))))"
      ],
      "execution_count": 72,
      "outputs": [
        {
          "output_type": "stream",
          "text": [
            "Distance: 0.28\n",
            "Similarity: 0.71\n"
          ],
          "name": "stdout"
        }
      ]
    },
    {
      "cell_type": "markdown",
      "metadata": {
        "id": "Slrmw7TpT2Le",
        "colab_type": "text"
      },
      "source": [
        "## Damerau-Levenshtein distance"
      ]
    },
    {
      "cell_type": "code",
      "metadata": {
        "id": "lSSmzYpfUC7F",
        "colab_type": "code",
        "colab": {
          "base_uri": "https://localhost:8080/",
          "height": 34
        },
        "outputId": "6a837e66-5469-446a-a745-905d3654f60c"
      },
      "source": [
        "from strsimpy.damerau import Damerau\n",
        "\n",
        "damerau = Damerau()\n",
        "print(distance_format.format(str(damerau.distance(s0, s1))))"
      ],
      "execution_count": 73,
      "outputs": [
        {
          "output_type": "stream",
          "text": [
            "Distance: 10\n"
          ],
          "name": "stdout"
        }
      ]
    },
    {
      "cell_type": "markdown",
      "metadata": {
        "id": "QajjFRrHUDSR",
        "colab_type": "text"
      },
      "source": [
        "## Metric Longest Common Subsequence "
      ]
    },
    {
      "cell_type": "code",
      "metadata": {
        "id": "qGaP0wC6UIyd",
        "colab_type": "code",
        "colab": {
          "base_uri": "https://localhost:8080/",
          "height": 34
        },
        "outputId": "73d657dc-3519-480a-e4dd-b8b7913e1e7e"
      },
      "source": [
        "from strsimpy.metric_lcs import MetricLCS\n",
        "\n",
        "metric_lcs = MetricLCS()\n",
        "# LCS: ABCDEF => length = 6\n",
        "# longest = s2 => length = 10\n",
        "# => 1 - 6/10 = 0.4\n",
        "print(distance_format.format(str(metric_lcs.distance(s0,s1))))"
      ],
      "execution_count": 74,
      "outputs": [
        {
          "output_type": "stream",
          "text": [
            "Distance: 0.19\n"
          ],
          "name": "stdout"
        }
      ]
    },
    {
      "cell_type": "markdown",
      "metadata": {
        "id": "qpyRrZceUJd2",
        "colab_type": "text"
      },
      "source": [
        "## Cosine similarity distance"
      ]
    },
    {
      "cell_type": "code",
      "metadata": {
        "id": "TrNIFxRNUO7-",
        "colab_type": "code",
        "colab": {
          "base_uri": "https://localhost:8080/",
          "height": 34
        },
        "outputId": "d026ebc6-b48c-4b2c-8498-81f2107d15c6"
      },
      "source": [
        "from strsimpy.cosine import Cosine\n",
        "\n",
        "cosine = Cosine(2)\n",
        "p0 = cosine.get_profile(s0)\n",
        "p1 = cosine.get_profile(s1)\n",
        "print(similarity_format.format(str(cosine.similarity_profiles(p0, p1))))"
      ],
      "execution_count": 75,
      "outputs": [
        {
          "output_type": "stream",
          "text": [
            "Similarity: 0.85\n"
          ],
          "name": "stdout"
        }
      ]
    },
    {
      "cell_type": "markdown",
      "metadata": {
        "id": "bXPv1wxOaEPw",
        "colab_type": "text"
      },
      "source": [
        "## Sorensen-Dice coefficient"
      ]
    },
    {
      "cell_type": "code",
      "metadata": {
        "id": "5I7s4XziaE4L",
        "colab_type": "code",
        "colab": {
          "base_uri": "https://localhost:8080/",
          "height": 51
        },
        "outputId": "02a23be0-8137-4590-da08-520f3a493457"
      },
      "source": [
        "from strsimpy.sorensen_dice import SorensenDice\n",
        "\n",
        "sd = SorensenDice(2)\n",
        "print(similarity_format.format(str(sd.similarity(s0, s1)), s0, s1))\n",
        "print(distance_format.format(str(sd.distance(s0, s1)), s0, s1))"
      ],
      "execution_count": 76,
      "outputs": [
        {
          "output_type": "stream",
          "text": [
            "Similarity: 0.83\n",
            "Distance: 0.16\n"
          ],
          "name": "stdout"
        }
      ]
    }
  ]
}